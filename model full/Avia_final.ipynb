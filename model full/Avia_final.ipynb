{
 "cells": [
  {
   "cell_type": "code",
   "execution_count": null,
   "source": [
    "import sys\n",
    "import os\n",
    "sys.path.append('../src')"
   ],
   "outputs": [],
   "metadata": {}
  },
  {
   "cell_type": "code",
   "execution_count": null,
   "source": [
    "import torch\n",
    "import numpy as np\n",
    "import pandas as pd\n",
    "import random\n",
    "\n",
    "import global_var\n",
    "import augment\n",
    "import dataset\n",
    "import modeling\n",
    "\n",
    "import cv2\n",
    "from torch.utils.data import DataLoader\n",
    "from torchvision import models as models\n",
    "import torch.nn as nn\n",
    "import torch.optim as optim\n",
    "\n",
    "from tqdm import tqdm\n",
    "from sklearn.model_selection import StratifiedKFold\n",
    "from sklearn.metrics import accuracy_score, f1_score\n",
    "\n",
    "%matplotlib inline"
   ],
   "outputs": [],
   "metadata": {}
  },
  {
   "cell_type": "code",
   "execution_count": null,
   "source": [
    "def seed_everything(seed=42):\n",
    "    random.seed(seed)\n",
    "    os.environ['PYTHONHASHSEED'] = str(seed)\n",
    "    np.random.seed(seed)\n",
    "    torch.manual_seed(seed)\n",
    "    torch.cuda.manual_seed(seed)\n",
    "    torch.backends.cudnn.deterministic = True\n",
    "    \n",
    "seed_everything(seed=256)"
   ],
   "outputs": [],
   "metadata": {}
  },
  {
   "cell_type": "markdown",
   "source": [
    "# Load data"
   ],
   "metadata": {}
  },
  {
   "cell_type": "code",
   "execution_count": null,
   "source": [
    "train_cl_nm = pd.read_csv('train.csv')\n",
    "test_nm = pd.read_csv('test.csv')\n",
    "test_extended_nm = pd.read_csv('test_extended.csv')"
   ],
   "outputs": [],
   "metadata": {}
  },
  {
   "cell_type": "code",
   "execution_count": null,
   "source": [
    "X_train, y_train = [], []"
   ],
   "outputs": [],
   "metadata": {}
  },
  {
   "cell_type": "code",
   "execution_count": null,
   "source": [
    "for index, row in tqdm(train_cl_nm.iterrows()):\n",
    "    im = cv2.imread(global_var.TRAIN_DIR + row['filename'] + '.png')\n",
    "    X_train.append(im)\n",
    "    y_train.append(row['sign'])"
   ],
   "outputs": [],
   "metadata": {}
  },
  {
   "cell_type": "code",
   "execution_count": null,
   "source": [
    "X = np.array(X_train)\n",
    "y = np.array(y_train).reshape(-1,1)"
   ],
   "outputs": [],
   "metadata": {}
  },
  {
   "cell_type": "code",
   "execution_count": null,
   "source": [
    "test = []\n",
    "for index, row in tqdm(test_nm.iterrows()):\n",
    "    im = cv2.imread(global_var.TEST_DIR + row['filename'] + '.png')\n",
    "    test.append(im)"
   ],
   "outputs": [],
   "metadata": {}
  },
  {
   "cell_type": "code",
   "execution_count": null,
   "source": [
    "test_extended = []\n",
    "for index, row in tqdm(test_extended_nm.iterrows()):\n",
    "    if row['filename'] in test_nm.filename.values:\n",
    "        im = cv2.imread(global_var.TEST_DIR + row['filename'] + '.png')\n",
    "    else:\n",
    "        im = cv2.imread(global_var.TEST_EXT_DIR + row['filename'] + '.jpeg')\n",
    "    test_extended.append(im)"
   ],
   "outputs": [],
   "metadata": {}
  },
  {
   "cell_type": "code",
   "execution_count": null,
   "source": [
    "X_test = np.array(test)\n",
    "inference_data = dataset.Airplane_test(X_test, augmentation = augment.valid_augmentation(global_var.IMAGE_SIZE))\n",
    "inference_dataloader = DataLoader(inference_data, batch_size=global_var.BATCH_SIZE, shuffle=False)"
   ],
   "outputs": [],
   "metadata": {}
  },
  {
   "cell_type": "code",
   "execution_count": null,
   "source": [
    "X_test_ext = np.array(test_extended)\n",
    "inference_data = dataset.Airplane_test(X_test_ext, augmentation = augment.valid_augmentation(global_var.IMAGE_SIZE))\n",
    "inference_ext_dataloader = DataLoader(inference_data, batch_size=global_var.BATCH_SIZE, shuffle=False)"
   ],
   "outputs": [],
   "metadata": {}
  },
  {
   "cell_type": "markdown",
   "source": [
    "# Training"
   ],
   "metadata": {}
  },
  {
   "cell_type": "code",
   "execution_count": null,
   "source": [
    "def train_model(model, device, loss_fn, optimizer, scheduler, train_loader, val_loader, num_epoch, DECAY, n_fold):\n",
    "    train_losses = []\n",
    "    test_losses = []\n",
    "    acc = []\n",
    "    f = []\n",
    "    mean_score = []\n",
    "\n",
    "    for i in range(num_epoch):\n",
    "        print('Epoch №:', i)\n",
    "        epoch_train_losses = []\n",
    "        model.train(True)\n",
    "        for X_train, y_train in tqdm(train_loader):\n",
    "            # Посчитаем предсказание и лосс\n",
    "            X_train = X_train.to(device)\n",
    "            y_train = y_train.to(device)\n",
    "            y_pred = model(X_train)\n",
    "            loss = loss_fn(y_pred, y_train)\n",
    "            del y_pred\n",
    "\n",
    "            # зануляем градиент\n",
    "            optimizer.zero_grad()\n",
    "\n",
    "            # backward\n",
    "            loss.backward()\n",
    "\n",
    "            # ОБНОВЛЯЕМ веса\n",
    "            optimizer.step()\n",
    "            scheduler.step()\n",
    "\n",
    "            # Запишем число (не тензор) в наши батчевые лоссы\n",
    "            epoch_train_losses.append(loss.item())   \n",
    "                    \n",
    "        train_losses.append(np.mean(epoch_train_losses))\n",
    "        \n",
    "        # Теперь посчитаем лосс на вал\n",
    "        with torch.no_grad():\n",
    "            model.eval()\n",
    "            epoch_test_losses = []\n",
    "            epoch_acc = []\n",
    "            epoch_f = []\n",
    "            epoch_mean = []\n",
    "            for X_val, y_val in val_loader:\n",
    "                X_val, y_val = X_val.to(device), y_val.to(device)\n",
    "                y_pred = model(X_val)\n",
    "                loss = loss_fn(y_pred, y_val)\n",
    "            \n",
    "                epoch_test_losses.append(loss.item())\n",
    "                y_pred = y_pred.tanh().detach().cpu().numpy()\n",
    "                y_pred = (y_pred>=0.4).astype(int)\n",
    "                accuracy = accuracy_score(y_val.cpu(), y_pred)\n",
    "                f1 = f1_score(y_val.cpu(), y_pred)\n",
    "                epoch_acc.append(accuracy)\n",
    "                epoch_f.append(f1)\n",
    "                epoch_mean.append((accuracy+f1)/2)\n",
    "                del y_pred\n",
    "\n",
    "            test_losses.append(np.mean(epoch_test_losses))\n",
    "            acc.append(np.mean(epoch_acc))\n",
    "            f.append(np.mean(epoch_f))\n",
    "            mean_score.append(np.mean(epoch_mean))\n",
    "            \n",
    "            torch.save(model.state_dict(), f'epoch_{i}_fold_{n_fold}.pth')  # сохраняем веса эпох\n",
    "\n",
    "            print(\n",
    "                'Train loss =', train_losses[-1],\n",
    "                'Val loss =', test_losses[-1],\n",
    "                f'Val scores: accuracy:{acc[-1]}, f1: {f[-1]}, mean: {mean_score[-1]}'\n",
    "            )\n",
    "                \n",
    "    return train_losses, test_losses, acc, f, mean_score"
   ],
   "outputs": [],
   "metadata": {}
  },
  {
   "cell_type": "code",
   "execution_count": null,
   "source": [
    "# Обучение модели\n",
    "#\n",
    "kfold = StratifiedKFold(n_splits=7)\n",
    "n_fold = 0\n",
    "y_preds = np.zeros(1000)\n",
    "best_epochs = []\n",
    "\n",
    "for train_index, test_index in kfold.split(X, y):\n",
    "    print(\"Fold\", n_fold)\n",
    "    X_train, y_train = X[train_index], y[train_index]\n",
    "    X_valid, y_valid = X[test_index], y[test_index]\n",
    "    \n",
    "    \n",
    "    train_data = dataset.Airplane(X_train, y_train, augmentation=augment.train_augmentation(global_var.IMAGE_SIZE))\n",
    "    val_data = dataset.Airplane(X_valid, y_valid, augmentation=augment.valid_augmentation(global_var.IMAGE_SIZE))\n",
    "    trainloader = DataLoader(train_data, batch_size=global_var.BATCH_SIZE, shuffle=False)  \n",
    "    valloader = DataLoader(val_data, batch_size=global_var.BATCH_SIZE, shuffle=False)\n",
    "    \n",
    "    net = models.resnet18(pretrained=True).to(global_var.DEVICE)\n",
    "    fc_inputs = net.fc.in_features\n",
    "\n",
    "    net.fc = nn.Sequential(\n",
    "        nn.Linear(fc_inputs, 1)\n",
    "    ).to(global_var.DEVICE)\n",
    "    net.aux_logits = False\n",
    "\n",
    "    optimizer = optim.Adam(net.parameters(), lr = 0.00075)\n",
    "    scheduler = optim.lr_scheduler.OneCycleLR(optimizer=optimizer, pct_start=0.1, div_factor=1e3,\n",
    "                                              max_lr=1e-3, epochs=10, steps_per_epoch=len(trainloader))\n",
    "\n",
    "    criterion = nn.BCEWithLogitsLoss()\n",
    "\n",
    "    train_losses, val_losses, accuracy, f1, mean_score = train_model(net, global_var.DEVICE, criterion, optimizer, scheduler, trainloader, valloader, 10, global_var.DECAY, n_fold)\n",
    "\n",
    "    best_epochs.append(f'epoch_{np.array(mean_score).argmax()}_fold_{n_fold}.pth')\n",
    "\n",
    "    net.load_state_dict(torch.load(f'epoch_{np.array(accuracy).argmax()}_fold_{n_fold}.pth'))\n",
    "    y_preds += modeling.inference_fn(net, inference_dataloader, global_var.DEVICE).reshape(-1)\n",
    "\n",
    "    n_fold+=1"
   ],
   "outputs": [],
   "metadata": {}
  },
  {
   "cell_type": "code",
   "execution_count": null,
   "source": [
    "best_epochs"
   ],
   "outputs": [],
   "metadata": {}
  }
 ],
 "metadata": {
  "orig_nbformat": 4,
  "language_info": {
   "name": "python",
   "version": "3.8.3",
   "mimetype": "text/x-python",
   "codemirror_mode": {
    "name": "ipython",
    "version": 3
   },
   "pygments_lexer": "ipython3",
   "nbconvert_exporter": "python",
   "file_extension": ".py"
  },
  "kernelspec": {
   "name": "python3",
   "display_name": "Python 3.8.3 64-bit ('base': conda)"
  },
  "interpreter": {
   "hash": "af0c9cac6af363f277969eb9c7b3f0bdd35b60582a1c4885676e4f1473755872"
  }
 },
 "nbformat": 4,
 "nbformat_minor": 2
}